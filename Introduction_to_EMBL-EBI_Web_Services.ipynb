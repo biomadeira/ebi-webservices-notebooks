{
 "cells": [
  {
   "cell_type": "markdown",
   "metadata": {},
   "source": [
    "# Introduction to EMBL-EBI Web Services\n",
    "\n",
    "## In this Session\n",
    "* Quick pointers\n",
    "* Basic examples on how to retrieve data from a URL\n",
    "* How to construct REST URLs to fetch data in different formats\n",
    "* (Optional) using a Python client to retrieve data with Dbfetch\n",
    "* (Optional) using a Python client to submit a job\n",
    "* Appendix \n",
    "    * Glossary\n",
    "    * Useful links"
   ]
  },
  {
   "cell_type": "markdown",
   "metadata": {},
   "source": [
    "## Quick pointers\n",
    "\n",
    "EMBL-EBI data resources and tools can be explored from the https://www.ebi.ac.uk/services web page. Many of the resources listed provide programmatic access capabilities, via simple download pages (e.g. from an ftp server), or through REST/SOAP APIs. \n",
    "\n",
    "Web Production Team has collected a list of EMBL-EBI resources that provide APIs, available at https://bit.ly/EMBL-EBI-APIs"
   ]
  },
  {
   "cell_type": "markdown",
   "metadata": {},
   "source": [
    "## Basic examples on how to retrieve data from a URL\n",
    "\n",
    "In this example we will be using [Dbfetch](https://www.ebi.ac.uk/Tools/dbfetch/), which provides an easy way to retrieve entries from various databases at the EMBL-EBI in a consistent manner. It can be accessed from any browser as well as through programming access."
   ]
  },
  {
   "cell_type": "markdown",
   "metadata": {},
   "source": [
    "To retrieve a coding sequence entry from the European Nucleotide Archive (ENA), we could open a browser window and try the following URL: https://www.ebi.ac.uk/Tools/dbfetch/dbfetch?db=ena_coding;id=AAA59452\n",
    "\n",
    "By inspecting the URL, one can see that the queried `db` is named \"ena_coding\" and the queried `id` is AAA59452. The default view for this query is *html*, since the result is displayed within the webpage. By adding `style=raw` to the previous URL we can see the same result as a raw plain text output: https://www.ebi.ac.uk/Tools/dbfetch/dbfetch?db=ena_coding;id=AAA59452;style=raw\n",
    "\n",
    "**Note:** different options are separated by \";\" when constructing the final URL.\n",
    "\n",
    "We could then retrieve this entry using *curl* (or other applications, such as wget) but in this example we are using a popular http request Python module called [requests](http://docs.python-requests.org/en/master/)."
   ]
  },
  {
   "cell_type": "code",
   "execution_count": null,
   "metadata": {},
   "outputs": [],
   "source": [
    "!curl \"https://www.ebi.ac.uk/Tools/dbfetch/dbfetch?db=ena_coding;id=AAA59452;style=raw\" > AAA59452.embl"
   ]
  },
  {
   "cell_type": "code",
   "execution_count": null,
   "metadata": {},
   "outputs": [],
   "source": [
    "!head AAA59452.embl"
   ]
  },
  {
   "cell_type": "code",
   "execution_count": null,
   "metadata": {},
   "outputs": [],
   "source": [
    "import requests\n",
    "\n",
    "dbfetch_url = \"https://www.ebi.ac.uk/Tools/dbfetch/\""
   ]
  },
  {
   "cell_type": "code",
   "execution_count": null,
   "metadata": {},
   "outputs": [],
   "source": [
    "db = \"ena_coding\"\n",
    "ena_id = \"AAA59452\"\n",
    "\n",
    "url = dbfetch_url + \"dbfetch?style=raw;db=%s;id=%s\" % (db, ena_id)\n",
    "r = requests.get(url)\n",
    "if r.ok:\n",
    "    print(r.text)"
   ]
  },
  {
   "cell_type": "markdown",
   "metadata": {},
   "source": [
    "## How to construct URLs to fetch data in different formats\n",
    "Another aspect that can be done with the previous URL, is to specify a particular output `format`. In this case, EMBL format is return as it is the default for this database. Others, such as fasta, can also be retrieved:\n",
    "https://www.ebi.ac.uk/Tools/dbfetch/dbfetch?db=ena_coding;id=AAA59452;style=raw;format=fasta"
   ]
  },
  {
   "cell_type": "code",
   "execution_count": null,
   "metadata": {},
   "outputs": [],
   "source": [
    "outformat = \"fasta\"\n",
    "\n",
    "url = dbfetch_url + \"dbfetch?style=raw;db=%s;id=%s;format=%s\" % (db, ena_id, outformat)\n",
    "r = requests.get(url)\n",
    "if r.ok:\n",
    "    print(r.text)"
   ]
  },
  {
   "cell_type": "markdown",
   "metadata": {},
   "source": [
    "In some instances, the APIs do not have `format` or a similar options that can be specified. A common way for some APIs to return outputs in formats such as JSON, is to accept specific headers, which instruct the API to return the output in a particular format."
   ]
  },
  {
   "cell_type": "markdown",
   "metadata": {},
   "source": [
    "An example of this can be shown by using [EBI Search](https://www.ebi.ac.uk/ebisearch). Here, we would like to find InterPro cross-references, from a particular UniProtKB entry. A typical search in EBI's search bar for this would return a webpage URL such as: https://www.ebi.ac.uk/ebisearch/search.ebi?db=interpro7&query=P09211"
   ]
  },
  {
   "cell_type": "markdown",
   "metadata": {},
   "source": [
    "Using EBI Search's API (at https://www.ebi.ac.uk/ebisearch/swagger.ebi), we could retrieve the same data with requests as follows:"
   ]
  },
  {
   "cell_type": "code",
   "execution_count": null,
   "metadata": {},
   "outputs": [],
   "source": [
    "ebisearch_url = \"https://www.ebi.ac.uk/ebisearch/ws/rest/\""
   ]
  },
  {
   "cell_type": "code",
   "execution_count": null,
   "metadata": {},
   "outputs": [],
   "source": [
    "domain = \"uniprot\"\n",
    "uniprotid = \"P12345\"\n",
    "xrefdomain = \"interpro\"\n",
    "\n",
    "url = ebisearch_url + \"%s/entry/%s/xref/%s\" % (domain, uniprotid, xrefdomain)\n",
    "r = requests.get(url)\n",
    "if r.ok:\n",
    "    print(r.text)"
   ]
  },
  {
   "cell_type": "markdown",
   "metadata": {},
   "source": [
    "As you can see the default output format for this query is XML, but we can also retrieve JSON (and others, e.g. CSV and TSV) by passing a header param."
   ]
  },
  {
   "cell_type": "code",
   "execution_count": null,
   "metadata": {},
   "outputs": [],
   "source": [
    "import json\n",
    "\n",
    "r = requests.get(url, headers={'Accept': \"application/json\"})\n",
    "if r.ok:\n",
    "    print(json.dumps(r.json(), sort_keys=True, indent=4))"
   ]
  },
  {
   "cell_type": "markdown",
   "metadata": {},
   "source": [
    "Let's try getting the values in a CSV file:"
   ]
  },
  {
   "cell_type": "code",
   "execution_count": null,
   "metadata": {},
   "outputs": [],
   "source": [
    "import pandas as pd\n",
    "from io import StringIO\n",
    "\n",
    "r = requests.get(url, headers={'Accept': \"text/csv\"})\n",
    "if r.ok:\n",
    "    print(pd.read_csv(StringIO(r.text)))"
   ]
  },
  {
   "cell_type": "markdown",
   "metadata": {},
   "source": [
    "For retrieving a BLAST output for the previous job with (example `jobid=ncbiblast-I20190625-094438-0592-62765631-p2m`) we need to use a different endpoint `/result/{jobId}/{resultType}`. In this case we can retrieve the default BLAST output format wich has been named `out`."
   ]
  },
  {
   "cell_type": "code",
   "execution_count": null,
   "metadata": {},
   "outputs": [],
   "source": [
    "!curl -X GET --header 'Accept: text/plain' 'https://www.ebi.ac.uk/Tools/services/rest/ncbiblast/result/ncbiblast-I20190625-094438-0592-62765631-p2m/out' -o blast.txt"
   ]
  },
  {
   "cell_type": "code",
   "execution_count": null,
   "metadata": {},
   "outputs": [],
   "source": [
    "!head -n 50 blast.txt"
   ]
  },
  {
   "cell_type": "markdown",
   "metadata": {},
   "source": [
    "## (Optional) using a Python client to retrieve data with Dbfetch\n",
    "\n",
    "Python, Perl and Java clients are provided for EBI Tools Web Services from https://github.com/ebi-wp/webservice-clients."
   ]
  },
  {
   "cell_type": "markdown",
   "metadata": {},
   "source": [
    "To simplify the process we can download one of the clients (e.g. DBfetch or BLAST) and run it in alternative to using the a custom Python script."
   ]
  },
  {
   "cell_type": "code",
   "execution_count": null,
   "metadata": {},
   "outputs": [],
   "source": [
    "# note: we are getting the raw client from GitHub\n",
    "!wget https://raw.githubusercontent.com/ebi-wp/webservice-clients/master/python/dbfetch.py"
   ]
  },
  {
   "cell_type": "markdown",
   "metadata": {},
   "source": [
    "One can learn more about available parameters and how to use them by typing `python <client_name>.py --help`"
   ]
  },
  {
   "cell_type": "code",
   "execution_count": null,
   "metadata": {},
   "outputs": [],
   "source": [
    "!python dbfetch.py --help"
   ]
  },
  {
   "cell_type": "markdown",
   "metadata": {},
   "source": [
    "Retrieving the same sequence in fasta format from ENA could be done using the Python client as follows:"
   ]
  },
  {
   "cell_type": "code",
   "execution_count": null,
   "metadata": {},
   "outputs": [],
   "source": [
    "!python dbfetch.py fetchData ena_coding:AAA59452 fasta"
   ]
  },
  {
   "cell_type": "markdown",
   "metadata": {},
   "source": [
    "If the above command failed, some dependencies might be missing. See instructions for installing them in https://github.com/ebi-wp/webservice-clients"
   ]
  },
  {
   "cell_type": "markdown",
   "metadata": {},
   "source": [
    "## (Optional) using a Python client to submit a job\n",
    "\n",
    "In addition to data retrieval, EMBL-EBI provides Web Services for popular Bioinformatics Applications such as NCBI BLAST+, Clustal Omega, InterProScan 5, and HMMER. Programmatic access to these services can be explored from https://www.ebi.ac.uk/Tools/webservices. The common API can be browsed from https://www.ebi.ac.uk/Tools/common/tools/help/\n",
    "\n",
    "Since data needs to be passed to the server for the application to run (i.e. some input sequence data, in this case), the request uses the POST HTTP verb. In this example, we can run NCBI BLAST+ using Swissprot database (`uniprotkb_swissprot`) and using a UniProt sequence accession number as the input.\n",
    "\n",
    "Similarly to what we have done for Dbfetch, we can download the clients and perform various sequence analysis using the available Bioinformatics Applications. "
   ]
  },
  {
   "cell_type": "code",
   "execution_count": null,
   "metadata": {},
   "outputs": [],
   "source": [
    "# note: we are getting the raw client from GitHub\n",
    "!wget https://raw.githubusercontent.com/ebi-wp/webservice-clients/master/python/ncbiblast.py"
   ]
  },
  {
   "cell_type": "markdown",
   "metadata": {},
   "source": [
    "The various parameter options required for submitting a BLAST job are:  \n",
    "* `--email test\\@ebi.ac.uk`\n",
    "* `--program blastp`\n",
    "* `--stype protein` \n",
    "* `--sequence sp:wap_rat`\n",
    "* `--database uniprotkb_swissprot`"
   ]
  },
  {
   "cell_type": "code",
   "execution_count": null,
   "metadata": {},
   "outputs": [],
   "source": [
    "# the clients can run the job and return outputs on the same call (synchronously as below, or asynchronously)\n",
    "!python ncbiblast.py --email test@ebi.ac.uk --program blastp --stype protein --sequence sp:wap_rat --database uniprotkb_swissprot --outformat out --outfile wap_rat"
   ]
  },
  {
   "cell_type": "markdown",
   "metadata": {},
   "source": [
    "If the above command failed, some dependencies might be missing. See instructions for installing them in https://github.com/ebi-wp/webservice-clients"
   ]
  },
  {
   "cell_type": "markdown",
   "metadata": {},
   "source": [
    "## Appendix\n",
    "### Glossary\n",
    "\n",
    "**API** - Application Programming Interface  \n",
    "**CSV** - Comma-sparated Values  \n",
    "**HTTP** - HyperText Transfer Protocol  \n",
    "**JSON** - JavaScript Object Notation  \n",
    "**REST** - Representational State Transfer  \n",
    "**SOAP** - Simple Object Access Protocol  \n",
    "**TSV** - Tab-separated Values  \n",
    "**URL** - Uniform Resource Locator  \n",
    "\n",
    "### Useful links\n",
    "\n",
    "EMBL-EBI services and data resources: https://www.ebi.ac.uk/services  \n",
    "EMBL-EBI APIs:https://bit.ly/EMBL-EBI-APIs  \n",
    "EMBL-EBI Web Services General Documentation: https://www.ebi.ac.uk/Tools/webservices  \n",
    "Web Service Clients for EBI Tools and EBI Search: https://github.com/ebi-wp/webservice-clients  \n",
    "RESTful API (SWAGGER) User Interface for EBI Tools: https://www.ebi.ac.uk/Tools/common/tools/help/  \n",
    "RESTful API (SWAGGER) User Interface for EBI Search: https://www.ebi.ac.uk/ebisearch/swagger.ebi  \n",
    "\n",
    "**Contact us via Help and Support at https://www.ebi.ac.uk/support/webservices**"
   ]
  }
 ],
 "metadata": {
  "kernelspec": {
   "display_name": "Python 3",
   "language": "python",
   "name": "python3"
  },
  "language_info": {
   "codemirror_mode": {
    "name": "ipython",
    "version": 3
   },
   "file_extension": ".py",
   "mimetype": "text/x-python",
   "name": "python",
   "nbconvert_exporter": "python",
   "pygments_lexer": "ipython3",
   "version": "3.7.3"
  }
 },
 "nbformat": 4,
 "nbformat_minor": 2
}
